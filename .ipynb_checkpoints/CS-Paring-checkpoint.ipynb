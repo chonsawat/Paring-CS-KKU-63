{
 "cells": [
  {
   "cell_type": "code",
   "execution_count": 67,
   "metadata": {},
   "outputs": [],
   "source": [
    "import pandas as pd\n",
    "import numpy as np"
   ]
  },
  {
   "cell_type": "code",
   "execution_count": 68,
   "metadata": {},
   "outputs": [
    {
     "data": {
      "text/html": [
       "<div>\n",
       "<style scoped>\n",
       "    .dataframe tbody tr th:only-of-type {\n",
       "        vertical-align: middle;\n",
       "    }\n",
       "\n",
       "    .dataframe tbody tr th {\n",
       "        vertical-align: top;\n",
       "    }\n",
       "\n",
       "    .dataframe thead th {\n",
       "        text-align: right;\n",
       "    }\n",
       "</style>\n",
       "<table border=\"1\" class=\"dataframe\">\n",
       "  <thead>\n",
       "    <tr style=\"text-align: right;\">\n",
       "      <th></th>\n",
       "      <th>Name</th>\n",
       "    </tr>\n",
       "  </thead>\n",
       "  <tbody>\n",
       "    <tr>\n",
       "      <th>0</th>\n",
       "      <td>นายกมล ศิลารักษ์</td>\n",
       "    </tr>\n",
       "    <tr>\n",
       "      <th>1</th>\n",
       "      <td>นายกิตติศักดิ์ เหง้าศรีไพร</td>\n",
       "    </tr>\n",
       "    <tr>\n",
       "      <th>2</th>\n",
       "      <td>นางสาวจุฑาทิพย์ บุญรมย์</td>\n",
       "    </tr>\n",
       "    <tr>\n",
       "      <th>4</th>\n",
       "      <td>นายณัฐวัฒน์ แซ่ตัง</td>\n",
       "    </tr>\n",
       "    <tr>\n",
       "      <th>5</th>\n",
       "      <td>นางสาวธนาพร ศรีโชติ</td>\n",
       "    </tr>\n",
       "    <tr>\n",
       "      <th>...</th>\n",
       "      <td>...</td>\n",
       "    </tr>\n",
       "    <tr>\n",
       "      <th>107</th>\n",
       "      <td>นายวชิรวิทย์ ยวงวิภักดิ์</td>\n",
       "    </tr>\n",
       "    <tr>\n",
       "      <th>108</th>\n",
       "      <td>นายวราวุฒิ มะลิผล</td>\n",
       "    </tr>\n",
       "    <tr>\n",
       "      <th>109</th>\n",
       "      <td>นางสาวศศิวิมล สว่างวงศ์</td>\n",
       "    </tr>\n",
       "    <tr>\n",
       "      <th>111</th>\n",
       "      <td>นางสาวอภัสรา ประมวลธนกิจ</td>\n",
       "    </tr>\n",
       "    <tr>\n",
       "      <th>112</th>\n",
       "      <td>นายอัยยะ บุ้งทอง</td>\n",
       "    </tr>\n",
       "  </tbody>\n",
       "</table>\n",
       "<p>95 rows × 1 columns</p>\n",
       "</div>"
      ],
      "text/plain": [
       "                           Name\n",
       "0              นายกมล ศิลารักษ์\n",
       "1    นายกิตติศักดิ์ เหง้าศรีไพร\n",
       "2       นางสาวจุฑาทิพย์ บุญรมย์\n",
       "4            นายณัฐวัฒน์ แซ่ตัง\n",
       "5           นางสาวธนาพร ศรีโชติ\n",
       "..                          ...\n",
       "107    นายวชิรวิทย์ ยวงวิภักดิ์\n",
       "108           นายวราวุฒิ มะลิผล\n",
       "109     นางสาวศศิวิมล สว่างวงศ์\n",
       "111    นางสาวอภัสรา ประมวลธนกิจ\n",
       "112            นายอัยยะ บุ้งทอง\n",
       "\n",
       "[95 rows x 1 columns]"
      ]
     },
     "execution_count": 68,
     "metadata": {},
     "output_type": "execute_result"
    }
   ],
   "source": [
    "df_62 = pd.read_csv(\"CS-62-Status.csv\").drop([\"no\",\"id\"], axis=1)\n",
    "df_62 = df_62[df_62[\"status\"] == 10].drop(columns=[\"status\"])\n",
    "df_62[\"Name\"] = df_62[\"fname\"] + \" \" + df_62[\"lname\"]\n",
    "df_62 = df_62.drop(columns=[\"fname\",\"lname\"])\n",
    "df_62"
   ]
  },
  {
   "cell_type": "code",
   "execution_count": 69,
   "metadata": {},
   "outputs": [
    {
     "data": {
      "text/html": [
       "<div>\n",
       "<style scoped>\n",
       "    .dataframe tbody tr th:only-of-type {\n",
       "        vertical-align: middle;\n",
       "    }\n",
       "\n",
       "    .dataframe tbody tr th {\n",
       "        vertical-align: top;\n",
       "    }\n",
       "\n",
       "    .dataframe thead th {\n",
       "        text-align: right;\n",
       "    }\n",
       "</style>\n",
       "<table border=\"1\" class=\"dataframe\">\n",
       "  <thead>\n",
       "    <tr style=\"text-align: right;\">\n",
       "      <th></th>\n",
       "      <th>ID</th>\n",
       "      <th>Name</th>\n",
       "    </tr>\n",
       "  </thead>\n",
       "  <tbody>\n",
       "    <tr>\n",
       "      <th>0</th>\n",
       "      <td>633020032-4</td>\n",
       "      <td>นายกล้ายุทธ   พิชัยเชิด</td>\n",
       "    </tr>\n",
       "    <tr>\n",
       "      <th>1</th>\n",
       "      <td>633020033-2</td>\n",
       "      <td>นายจิรภัทร   ชื่นสกุล</td>\n",
       "    </tr>\n",
       "    <tr>\n",
       "      <th>2</th>\n",
       "      <td>633020034-0</td>\n",
       "      <td>นายชาญยุทธ   ดงทะนา</td>\n",
       "    </tr>\n",
       "    <tr>\n",
       "      <th>3</th>\n",
       "      <td>633020035-8</td>\n",
       "      <td>นายชานน   ภาคีนุยะ</td>\n",
       "    </tr>\n",
       "    <tr>\n",
       "      <th>4</th>\n",
       "      <td>633020036-6</td>\n",
       "      <td>นายณัฐนันท์   วรรณภา</td>\n",
       "    </tr>\n",
       "    <tr>\n",
       "      <th>...</th>\n",
       "      <td>...</td>\n",
       "      <td>...</td>\n",
       "    </tr>\n",
       "    <tr>\n",
       "      <th>104</th>\n",
       "      <td>633021006-0</td>\n",
       "      <td>นางสาวสุภาวดี   มาวัน</td>\n",
       "    </tr>\n",
       "    <tr>\n",
       "      <th>105</th>\n",
       "      <td>633021007-8</td>\n",
       "      <td>นายอนุชา   เงินขาว</td>\n",
       "    </tr>\n",
       "    <tr>\n",
       "      <th>106</th>\n",
       "      <td>633021008-6</td>\n",
       "      <td>นายอภิวัฒน์   แก้วกำ</td>\n",
       "    </tr>\n",
       "    <tr>\n",
       "      <th>107</th>\n",
       "      <td>633021009-4</td>\n",
       "      <td>นายอัครเดช   วิทยาวุฒิรัตน์</td>\n",
       "    </tr>\n",
       "    <tr>\n",
       "      <th>108</th>\n",
       "      <td>633021010-9</td>\n",
       "      <td>นายอัษฎาวุธ   หอมดี</td>\n",
       "    </tr>\n",
       "  </tbody>\n",
       "</table>\n",
       "<p>109 rows × 2 columns</p>\n",
       "</div>"
      ],
      "text/plain": [
       "                ID                          Name\n",
       "0      633020032-4       นายกล้ายุทธ   พิชัยเชิด\n",
       "1      633020033-2         นายจิรภัทร   ชื่นสกุล\n",
       "2      633020034-0           นายชาญยุทธ   ดงทะนา\n",
       "3      633020035-8            นายชานน   ภาคีนุยะ\n",
       "4      633020036-6          นายณัฐนันท์   วรรณภา\n",
       "..             ...                           ...\n",
       "104    633021006-0         นางสาวสุภาวดี   มาวัน\n",
       "105    633021007-8            นายอนุชา   เงินขาว\n",
       "106    633021008-6          นายอภิวัฒน์   แก้วกำ\n",
       "107    633021009-4   นายอัครเดช   วิทยาวุฒิรัตน์\n",
       "108    633021010-9           นายอัษฎาวุธ   หอมดี\n",
       "\n",
       "[109 rows x 2 columns]"
      ]
     },
     "execution_count": 69,
     "metadata": {},
     "output_type": "execute_result"
    }
   ],
   "source": [
    "df_63 = pd.read_csv(\"CS-63-Member.csv\").drop([\"No\",\"Branch\",\"Major\"], axis=1)\n",
    "df_63"
   ]
  },
  {
   "cell_type": "code",
   "execution_count": 70,
   "metadata": {},
   "outputs": [],
   "source": [
    "from random import choice\n",
    "def get_pair(sophomore_list):\n",
    "    name = choice(sophomore_list)\n",
    "    sophomore_list = sophomore_list[sophomore_list != name]\n",
    "    return name, sophomore_list"
   ]
  },
  {
   "cell_type": "code",
   "execution_count": 71,
   "metadata": {},
   "outputs": [
    {
     "data": {
      "text/plain": [
       "(0, 1, 3, 0, 1)"
      ]
     },
     "execution_count": 71,
     "metadata": {},
     "output_type": "execute_result"
    }
   ],
   "source": [
    "0%5,1%5,3%5,5%5,6%5"
   ]
  },
  {
   "cell_type": "code",
   "execution_count": 72,
   "metadata": {},
   "outputs": [
    {
     "data": {
      "text/plain": [
       "' Logic '"
      ]
     },
     "execution_count": 72,
     "metadata": {},
     "output_type": "execute_result"
    }
   ],
   "source": [
    "\"\"\" Logic \"\"\"\n",
    "# a = [1,2,3,5,6,8]\n",
    "# tmp = a.copy()\n",
    "\n",
    "# for i in range(50):\n",
    "#     if not i % len(tmp):\n",
    "#         a = tmp.copy()\n",
    "#         some, a = get_pair(a)\n",
    "#         print(some, a)\n",
    "#     else:\n",
    "#         some, a = get_pair(a)\n",
    "#         print(some, a)"
   ]
  },
  {
   "cell_type": "code",
   "execution_count": 73,
   "metadata": {},
   "outputs": [
    {
     "data": {
      "text/plain": [
       "array(['นายกมล ศิลารักษ์', 'นายกิตติศักดิ์ เหง้าศรีไพร',\n",
       "       'นางสาวจุฑาทิพย์ บุญรมย์', 'นายณัฐวัฒน์ แซ่ตัง',\n",
       "       'นางสาวธนาพร ศรีโชติ', 'นายธีรภัทร์ ลอยนอก', 'นายสุรชา สีลาอาสน์',\n",
       "       'นายหัสวรรษ อัคติ', 'นางสาวกนกพร แพงไทย', 'นายกฤติน ปักกุนนัน',\n",
       "       'นางสาวกัญญาณัฐ ใสปาน', 'นางสาวกัญญาณี สามิภักดิ์',\n",
       "       'นายกัณวัฒน์ พิสาดรัมย์', 'นายกิตติภพ เพ็ชร์โปรี',\n",
       "       'นายชนม์สวัสดิ์ นาคนาม', 'นายชัยธวัช ศรีอนุตร', 'นายณัชวัศ หอระตะ',\n",
       "       'นายณัฐดนัย สอนโพธิ์', 'นางสาวณัฐธิดา สายหม่าน', 'นายณัฐพล สีหา',\n",
       "       'นายณัฐวุฒิ แง่มสุราช', 'นายธนโชติ เตชะศิริธนะกุล',\n",
       "       'นางสาวธมลวรรณ หมื่นทุม', 'นางสาวนัฐชา ทาทองบุญ',\n",
       "       'นายปณิธาน เทพบุดดี', 'นายปิยังกูร พิกุล', 'นายพงษกร ไชยสุระ',\n",
       "       'นายพริษฐ์ จงหาญ', 'นายพลวัตร พิลาวงษ์', 'นายพีรภัทร ถนอมทรัพย์',\n",
       "       'นายภัคพล อักษรจรรยา', 'นางสาวภัทรียา อามาตร',\n",
       "       'นายภูวดล พงษ์สระพัง', 'นางสาวเมษิณี ยมนัตถ์', 'นายยุทธนา ชื่นจบก',\n",
       "       'นายรัชพล สำราญรมย์', 'นายรัตนชัย ทีฆะทิพย์สกุล',\n",
       "       'นางสาววรรษิดา เกตะวันดี', 'นางสาววีระยา ชัยประสงค์สุข',\n",
       "       'นายศราวุฒิ พ่อสาร', 'นายศิริเฉลิม อุตรมาตย์',\n",
       "       'นางสาวศิรินภา สงวนรัตน์', 'นายศุภสัณห์ รัตนะทองมา',\n",
       "       'นายสถาพร พรมมา', 'นางสาวสินีนาฏ เทียกมูล', 'นายสิรภพ สังกฤษ',\n",
       "       'นายสุธี แซ่ตัน', 'นางสาวเสาวรส มือมิน', 'นายอภิชาติ มูลวันดี',\n",
       "       'นางสาวอรประวีณ์ มนตรีชน', 'นางสาวอัญมณี รุ่งเป้า',\n",
       "       'นางสาวอารยา หาระคุโน', 'นางสาวอาริญา สราญรมย์',\n",
       "       'นายกันตวิชญ์ วัตถุสินธุ์', 'นายคฑาทอง อภิรัตยาภา',\n",
       "       'นายชานนท์ คล้ายจันทอง', 'นางสาวณิชากร ศรีวะรมย์',\n",
       "       'นายดุลยณัฐ นิตย์ใหม่', 'นางสาวธิวาภรณ์ คำภักดี',\n",
       "       'นายธีรวัฒน์ พิมทพงษ์', 'นายปัณณธร ผาใต้', 'นายพชระ โคตรมณี',\n",
       "       'นายพิพรรธ สิงห์มีศรี', 'นายภูมิภัทร จันทร์ใบ', 'นายมันดีป คานีโย',\n",
       "       'นายรัชพล ยะพลหา', 'นายวรเมธ ทันแขก',\n",
       "       'นางสาวสุภาวรรณ อินทร์สมบูรณ์', 'นายอัครพนธ์ กาแก้ว',\n",
       "       'นายอานัติพนธ์ กุลรัตน์', 'นายกฤตเมธ ศิริสุนทร',\n",
       "       'นางสาวคาเรนเมดิสัน มีดย์', 'นายคุณากร ทานะสี',\n",
       "       'นายเจษฎากร กาญจนะสันติสุข', 'นางสาวชนิสรา แสงใส',\n",
       "       'นายชาญยุทธ ไวสูงเนิน', 'นางสาวชุตินธร วงค์พิพัฒน์',\n",
       "       'นายชุติพนธ์ ศรีโยธา', 'นายณัชนพ มะลิรส', 'นายทวิชภณ ทาริวิก',\n",
       "       'นายทัตธน พีระธรรม', 'นายธนาคาร พิมเสน',\n",
       "       'นายนฤบดินทร์ สัมพันธสิทธิ์', 'นายนันทวัฒน์ อรรถประจง',\n",
       "       'นายนิติภูมิ เสนาลา', 'นางสาวบุญญรัตน์ ศรีเสมอ',\n",
       "       'นางสาวปนัดดา สิงห์เสน', 'นางสาวพิรญาณ์ สอาดชอบ',\n",
       "       'นายยศวิน อังคะแสน', 'นายรณภพ รงค์ทอง', 'นายวชิรวิทย์ ยวงวิภักดิ์',\n",
       "       'นายวราวุฒิ มะลิผล', 'นางสาวศศิวิมล สว่างวงศ์',\n",
       "       'นางสาวอภัสรา ประมวลธนกิจ', 'นายอัยยะ บุ้งทอง'], dtype=object)"
      ]
     },
     "execution_count": 73,
     "metadata": {},
     "output_type": "execute_result"
    }
   ],
   "source": [
    "df_62.Name.values"
   ]
  },
  {
   "cell_type": "code",
   "execution_count": 74,
   "metadata": {},
   "outputs": [
    {
     "data": {
      "text/plain": [
       "'นายธีรภัทร์ ลอยนอก'"
      ]
     },
     "execution_count": 74,
     "metadata": {},
     "output_type": "execute_result"
    }
   ],
   "source": [
    "sophomore_name = df_62[\"Name\"].values\n",
    "sophomore_name[5]"
   ]
  },
  {
   "cell_type": "code",
   "execution_count": 75,
   "metadata": {},
   "outputs": [
    {
     "name": "stdout",
     "output_type": "stream",
     "text": [
      "ELSE IF 94\n",
      "IF 93\n",
      "IF 92\n",
      "IF 91\n",
      "IF 90\n",
      "IF 89\n",
      "IF 88\n",
      "IF 87\n",
      "IF 86\n",
      "IF 85\n",
      "IF 84\n",
      "IF 83\n",
      "IF 82\n",
      "IF 81\n",
      "IF 80\n",
      "IF 79\n",
      "IF 78\n",
      "IF 77\n",
      "IF 76\n",
      "IF 75\n",
      "IF 74\n",
      "IF 73\n",
      "IF 72\n",
      "IF 71\n",
      "IF 70\n",
      "IF 69\n",
      "IF 68\n",
      "IF 67\n",
      "IF 66\n",
      "IF 65\n",
      "IF 64\n",
      "IF 63\n",
      "IF 62\n",
      "IF 61\n",
      "IF 60\n",
      "IF 59\n",
      "IF 58\n",
      "IF 57\n",
      "IF 56\n",
      "IF 55\n",
      "IF 54\n",
      "IF 53\n",
      "IF 52\n",
      "IF 51\n",
      "IF 50\n",
      "IF 49\n",
      "IF 48\n",
      "IF 47\n",
      "IF 46\n",
      "IF 45\n",
      "IF 44\n",
      "IF 43\n",
      "IF 42\n",
      "IF 41\n",
      "IF 40\n",
      "IF 39\n",
      "IF 38\n",
      "IF 37\n",
      "IF 36\n",
      "IF 35\n",
      "IF 34\n",
      "IF 33\n",
      "IF 32\n",
      "IF 31\n",
      "IF 30\n",
      "IF 29\n",
      "IF 28\n",
      "IF 27\n",
      "IF 26\n",
      "IF 25\n",
      "IF 24\n",
      "IF 23\n",
      "IF 22\n",
      "IF 21\n",
      "IF 20\n",
      "IF 19\n",
      "IF 18\n",
      "IF 17\n",
      "IF 16\n",
      "IF 15\n",
      "IF 14\n",
      "IF 13\n",
      "IF 12\n",
      "IF 11\n",
      "IF 10\n",
      "IF 9\n",
      "IF 8\n",
      "IF 7\n",
      "IF 6\n",
      "IF 5\n",
      "IF 4\n",
      "IF 3\n",
      "IF 2\n",
      "IF 1\n",
      "IF 0\n",
      "ELSE IF 94\n",
      "IF 93\n",
      "IF 92\n",
      "IF 91\n",
      "IF 90\n",
      "IF 89\n",
      "IF 88\n",
      "IF 87\n",
      "IF 86\n",
      "IF 85\n",
      "IF 84\n",
      "IF 83\n",
      "IF 82\n",
      "IF 81\n",
      "['นายกมล ศิลารักษ์' 'นายกิตติศักดิ์ เหง้าศรีไพร' 'นางสาวจุฑาทิพย์ บุญรมย์'\n",
      " 'นายณัฐวัฒน์ แซ่ตัง' 'นางสาวธนาพร ศรีโชติ' 'นายธีรภัทร์ ลอยนอก'\n",
      " 'นายสุรชา สีลาอาสน์' 'นายหัสวรรษ อัคติ' 'นางสาวกนกพร แพงไทย'\n",
      " 'นายกฤติน ปักกุนนัน' 'นางสาวกัญญาณัฐ ใสปาน' 'นางสาวกัญญาณี สามิภักดิ์'\n",
      " 'นายกัณวัฒน์ พิสาดรัมย์' 'นายกิตติภพ เพ็ชร์โปรี' 'นายชนม์สวัสดิ์ นาคนาม'\n",
      " 'นายชัยธวัช ศรีอนุตร' 'นายณัชวัศ หอระตะ' 'นายณัฐดนัย สอนโพธิ์'\n",
      " 'นางสาวณัฐธิดา สายหม่าน' 'นายณัฐพล สีหา' 'นายณัฐวุฒิ แง่มสุราช'\n",
      " 'นายธนโชติ เตชะศิริธนะกุล' 'นางสาวธมลวรรณ หมื่นทุม'\n",
      " 'นางสาวนัฐชา ทาทองบุญ' 'นายปณิธาน เทพบุดดี' 'นายปิยังกูร พิกุล'\n",
      " 'นายพงษกร ไชยสุระ' 'นายพริษฐ์ จงหาญ' 'นายพลวัตร พิลาวงษ์'\n",
      " 'นายพีรภัทร ถนอมทรัพย์' 'นายภัคพล อักษรจรรยา' 'นางสาวภัทรียา อามาตร'\n",
      " 'นายภูวดล พงษ์สระพัง' 'นางสาวเมษิณี ยมนัตถ์' 'นายยุทธนา ชื่นจบก'\n",
      " 'นายรัชพล สำราญรมย์' 'นายรัตนชัย ทีฆะทิพย์สกุล' 'นางสาววรรษิดา เกตะวันดี'\n",
      " 'นางสาววีระยา ชัยประสงค์สุข' 'นายศราวุฒิ พ่อสาร' 'นายศิริเฉลิม อุตรมาตย์'\n",
      " 'นางสาวศิรินภา สงวนรัตน์' 'นายศุภสัณห์ รัตนะทองมา' 'นายสถาพร พรมมา'\n",
      " 'นางสาวสินีนาฏ เทียกมูล' 'นายสิรภพ สังกฤษ' 'นายสุธี แซ่ตัน'\n",
      " 'นางสาวเสาวรส มือมิน' 'นายอภิชาติ มูลวันดี' 'นางสาวอรประวีณ์ มนตรีชน'\n",
      " 'นางสาวอัญมณี รุ่งเป้า' 'นางสาวอารยา หาระคุโน' 'นางสาวอาริญา สราญรมย์'\n",
      " 'นายกันตวิชญ์ วัตถุสินธุ์' 'นายคฑาทอง อภิรัตยาภา' 'นายชานนท์ คล้ายจันทอง'\n",
      " 'นางสาวณิชากร ศรีวะรมย์' 'นายดุลยณัฐ นิตย์ใหม่' 'นางสาวธิวาภรณ์ คำภักดี'\n",
      " 'นายธีรวัฒน์ พิมทพงษ์' 'นายปัณณธร ผาใต้' 'นายพชระ โคตรมณี'\n",
      " 'นายพิพรรธ สิงห์มีศรี' 'นายภูมิภัทร จันทร์ใบ' 'นายมันดีป คานีโย'\n",
      " 'นายรัชพล ยะพลหา' 'นายวรเมธ ทันแขก' 'นางสาวสุภาวรรณ อินทร์สมบูรณ์'\n",
      " 'นายอัครพนธ์ กาแก้ว' 'นายอานัติพนธ์ กุลรัตน์' 'นายกฤตเมธ ศิริสุนทร'\n",
      " 'นางสาวคาเรนเมดิสัน มีดย์' 'นายคุณากร ทานะสี' 'นายเจษฎากร กาญจนะสันติสุข'\n",
      " 'นางสาวชนิสรา แสงใส' 'นายชาญยุทธ ไวสูงเนิน' 'นางสาวชุตินธร วงค์พิพัฒน์'\n",
      " 'นายชุติพนธ์ ศรีโยธา' 'นายณัชนพ มะลิรส' 'นายทวิชภณ ทาริวิก'\n",
      " 'นายทัตธน พีระธรรม' 'นายธนาคาร พิมเสน' 'นายนฤบดินทร์ สัมพันธสิทธิ์'\n",
      " 'นายนันทวัฒน์ อรรถประจง' 'นายนิติภูมิ เสนาลา' 'นางสาวบุญญรัตน์ ศรีเสมอ'\n",
      " 'นางสาวปนัดดา สิงห์เสน' 'นางสาวพิรญาณ์ สอาดชอบ' 'นายยศวิน อังคะแสน'\n",
      " 'นายรณภพ รงค์ทอง' 'นายวชิรวิทย์ ยวงวิภักดิ์' 'นายวราวุฒิ มะลิผล'\n",
      " 'นางสาวศศิวิมล สว่างวงศ์' 'นางสาวอภัสรา ประมวลธนกิจ' 'นายอัยยะ บุ้งทอง']\n"
     ]
    }
   ],
   "source": [
    "tmp = sophomore_name.copy()\n",
    "paring_list = []\n",
    "\n",
    "for i in range(len(df_63)):\n",
    "    if i % len(sophomore_name):\n",
    "        name, tmp = get_pair(tmp)\n",
    "        paring_list.append(name)\n",
    "        print(\"IF\",len(tmp))\n",
    "    elif i % len(sophomore_name) == 0:\n",
    "        tmp = sophomore_name.copy()\n",
    "        name, tmp = get_pair(tmp)\n",
    "        paring_list.append(name)\n",
    "        print(\"ELSE IF\", len(tmp))\n",
    "    else:\n",
    "        print(\"ELSE\")\n",
    "        \n",
    "print(sophomore_name)\n",
    "df_63[\"Sophomore\"] = paring_list"
   ]
  },
  {
   "cell_type": "code",
   "execution_count": 76,
   "metadata": {},
   "outputs": [],
   "source": [
    "def check_number_and_name(name):\n",
    "    print(sum([name in i for i in df_63[\"Sophomore\"].values]))\n",
    "    return df_63[[name in i for i in df_63[\"Sophomore\"].values]]"
   ]
  },
  {
   "cell_type": "code",
   "execution_count": 95,
   "metadata": {},
   "outputs": [
    {
     "data": {
      "text/plain": [
       "(109,\n",
       " array([2, 2, 2, 2, 2, 2, 2, 2, 2, 2, 2, 2, 2, 2, 1, 1, 1, 1, 1, 1, 1, 1,\n",
       "        1, 1, 1, 1, 1, 1, 1, 1, 1, 1, 1, 1, 1, 1, 1, 1, 1, 1, 1, 1, 1, 1,\n",
       "        1, 1, 1, 1, 1, 1, 1, 1, 1, 1, 1, 1, 1, 1, 1, 1, 1, 1, 1, 1, 1, 1,\n",
       "        1, 1, 1, 1, 1, 1, 1, 1, 1, 1, 1, 1, 1, 1, 1, 1, 1, 1, 1, 1, 1, 1,\n",
       "        1, 1, 1, 1, 1, 1, 1], dtype=int64))"
      ]
     },
     "execution_count": 95,
     "metadata": {},
     "output_type": "execute_result"
    }
   ],
   "source": [
    "df_63[\"Sophomore\"].value_counts().values.sum(), df_63[\"Sophomore\"].value_counts().values"
   ]
  },
  {
   "cell_type": "code",
   "execution_count": 78,
   "metadata": {},
   "outputs": [
    {
     "name": "stdout",
     "output_type": "stream",
     "text": [
      "Enter your name: ชนม์\n",
      "1\n"
     ]
    },
    {
     "data": {
      "text/html": [
       "<div>\n",
       "<style scoped>\n",
       "    .dataframe tbody tr th:only-of-type {\n",
       "        vertical-align: middle;\n",
       "    }\n",
       "\n",
       "    .dataframe tbody tr th {\n",
       "        vertical-align: top;\n",
       "    }\n",
       "\n",
       "    .dataframe thead th {\n",
       "        text-align: right;\n",
       "    }\n",
       "</style>\n",
       "<table border=\"1\" class=\"dataframe\">\n",
       "  <thead>\n",
       "    <tr style=\"text-align: right;\">\n",
       "      <th></th>\n",
       "      <th>ID</th>\n",
       "      <th>Name</th>\n",
       "      <th>Sophomore</th>\n",
       "    </tr>\n",
       "  </thead>\n",
       "  <tbody>\n",
       "    <tr>\n",
       "      <th>22</th>\n",
       "      <td>633020389-3</td>\n",
       "      <td>นายชาญรุ่งเรือง   จันทวารา</td>\n",
       "      <td>นายชนม์สวัสดิ์ นาคนาม</td>\n",
       "    </tr>\n",
       "  </tbody>\n",
       "</table>\n",
       "</div>"
      ],
      "text/plain": [
       "               ID                         Name              Sophomore\n",
       "22    633020389-3   นายชาญรุ่งเรือง   จันทวารา  นายชนม์สวัสดิ์ นาคนาม"
      ]
     },
     "execution_count": 78,
     "metadata": {},
     "output_type": "execute_result"
    }
   ],
   "source": [
    "check_number_and_name(input(\"Enter your name: \"))"
   ]
  },
  {
   "cell_type": "code",
   "execution_count": null,
   "metadata": {},
   "outputs": [],
   "source": []
  }
 ],
 "metadata": {
  "kernelspec": {
   "display_name": "Python 3",
   "language": "python",
   "name": "python3"
  },
  "language_info": {
   "codemirror_mode": {
    "name": "ipython",
    "version": 3
   },
   "file_extension": ".py",
   "mimetype": "text/x-python",
   "name": "python",
   "nbconvert_exporter": "python",
   "pygments_lexer": "ipython3",
   "version": "3.8.2"
  }
 },
 "nbformat": 4,
 "nbformat_minor": 4
}
