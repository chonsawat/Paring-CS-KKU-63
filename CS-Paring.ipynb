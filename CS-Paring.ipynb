{
 "cells": [
  {
   "cell_type": "code",
   "execution_count": 44,
   "metadata": {},
   "outputs": [],
   "source": [
    "import pandas as pd\n",
    "import numpy as np"
   ]
  },
  {
   "cell_type": "code",
   "execution_count": 45,
   "metadata": {},
   "outputs": [
    {
     "data": {
      "text/html": [
       "<div>\n",
       "<style scoped>\n",
       "    .dataframe tbody tr th:only-of-type {\n",
       "        vertical-align: middle;\n",
       "    }\n",
       "\n",
       "    .dataframe tbody tr th {\n",
       "        vertical-align: top;\n",
       "    }\n",
       "\n",
       "    .dataframe thead th {\n",
       "        text-align: right;\n",
       "    }\n",
       "</style>\n",
       "<table border=\"1\" class=\"dataframe\">\n",
       "  <thead>\n",
       "    <tr style=\"text-align: right;\">\n",
       "      <th></th>\n",
       "      <th>Name</th>\n",
       "    </tr>\n",
       "  </thead>\n",
       "  <tbody>\n",
       "    <tr>\n",
       "      <th>0</th>\n",
       "      <td>นายกมล ศิลารักษ์</td>\n",
       "    </tr>\n",
       "    <tr>\n",
       "      <th>1</th>\n",
       "      <td>นายกิตติศักดิ์ เหง้าศรีไพร</td>\n",
       "    </tr>\n",
       "    <tr>\n",
       "      <th>2</th>\n",
       "      <td>นางสาวจุฑาทิพย์ บุญรมย์</td>\n",
       "    </tr>\n",
       "    <tr>\n",
       "      <th>4</th>\n",
       "      <td>นายณัฐวัฒน์ แซ่ตัง</td>\n",
       "    </tr>\n",
       "    <tr>\n",
       "      <th>5</th>\n",
       "      <td>นางสาวธนาพร ศรีโชติ</td>\n",
       "    </tr>\n",
       "    <tr>\n",
       "      <th>...</th>\n",
       "      <td>...</td>\n",
       "    </tr>\n",
       "    <tr>\n",
       "      <th>107</th>\n",
       "      <td>นายวชิรวิทย์ ยวงวิภักดิ์</td>\n",
       "    </tr>\n",
       "    <tr>\n",
       "      <th>108</th>\n",
       "      <td>นายวราวุฒิ มะลิผล</td>\n",
       "    </tr>\n",
       "    <tr>\n",
       "      <th>109</th>\n",
       "      <td>นางสาวศศิวิมล สว่างวงศ์</td>\n",
       "    </tr>\n",
       "    <tr>\n",
       "      <th>111</th>\n",
       "      <td>นางสาวอภัสรา ประมวลธนกิจ</td>\n",
       "    </tr>\n",
       "    <tr>\n",
       "      <th>112</th>\n",
       "      <td>นายอัยยะ บุ้งทอง</td>\n",
       "    </tr>\n",
       "  </tbody>\n",
       "</table>\n",
       "<p>95 rows × 1 columns</p>\n",
       "</div>"
      ],
      "text/plain": [
       "                           Name\n",
       "0              นายกมล ศิลารักษ์\n",
       "1    นายกิตติศักดิ์ เหง้าศรีไพร\n",
       "2       นางสาวจุฑาทิพย์ บุญรมย์\n",
       "4            นายณัฐวัฒน์ แซ่ตัง\n",
       "5           นางสาวธนาพร ศรีโชติ\n",
       "..                          ...\n",
       "107    นายวชิรวิทย์ ยวงวิภักดิ์\n",
       "108           นายวราวุฒิ มะลิผล\n",
       "109     นางสาวศศิวิมล สว่างวงศ์\n",
       "111    นางสาวอภัสรา ประมวลธนกิจ\n",
       "112            นายอัยยะ บุ้งทอง\n",
       "\n",
       "[95 rows x 1 columns]"
      ]
     },
     "execution_count": 45,
     "metadata": {},
     "output_type": "execute_result"
    }
   ],
   "source": [
    "df_62 = pd.read_csv(\"CS-62-Status.csv\").drop([\"no\",\"id\"], axis=1)\n",
    "df_62 = df_62[df_62[\"status\"] == 10].drop(columns=[\"status\"])\n",
    "df_62[\"Name\"] = df_62[\"fname\"] + \" \" + df_62[\"lname\"]\n",
    "df_62 = df_62.drop(columns=[\"fname\",\"lname\"])\n",
    "df_62"
   ]
  },
  {
   "cell_type": "code",
   "execution_count": 46,
   "metadata": {},
   "outputs": [
    {
     "data": {
      "text/html": [
       "<div>\n",
       "<style scoped>\n",
       "    .dataframe tbody tr th:only-of-type {\n",
       "        vertical-align: middle;\n",
       "    }\n",
       "\n",
       "    .dataframe tbody tr th {\n",
       "        vertical-align: top;\n",
       "    }\n",
       "\n",
       "    .dataframe thead th {\n",
       "        text-align: right;\n",
       "    }\n",
       "</style>\n",
       "<table border=\"1\" class=\"dataframe\">\n",
       "  <thead>\n",
       "    <tr style=\"text-align: right;\">\n",
       "      <th></th>\n",
       "      <th>ID</th>\n",
       "      <th>Name</th>\n",
       "    </tr>\n",
       "  </thead>\n",
       "  <tbody>\n",
       "    <tr>\n",
       "      <th>0</th>\n",
       "      <td>633020032-4</td>\n",
       "      <td>นายกล้ายุทธ   พิชัยเชิด</td>\n",
       "    </tr>\n",
       "    <tr>\n",
       "      <th>1</th>\n",
       "      <td>633020033-2</td>\n",
       "      <td>นายจิรภัทร   ชื่นสกุล</td>\n",
       "    </tr>\n",
       "    <tr>\n",
       "      <th>2</th>\n",
       "      <td>633020034-0</td>\n",
       "      <td>นายชาญยุทธ   ดงทะนา</td>\n",
       "    </tr>\n",
       "    <tr>\n",
       "      <th>3</th>\n",
       "      <td>633020035-8</td>\n",
       "      <td>นายชานน   ภาคีนุยะ</td>\n",
       "    </tr>\n",
       "    <tr>\n",
       "      <th>4</th>\n",
       "      <td>633020036-6</td>\n",
       "      <td>นายณัฐนันท์   วรรณภา</td>\n",
       "    </tr>\n",
       "    <tr>\n",
       "      <th>...</th>\n",
       "      <td>...</td>\n",
       "      <td>...</td>\n",
       "    </tr>\n",
       "    <tr>\n",
       "      <th>104</th>\n",
       "      <td>633021006-0</td>\n",
       "      <td>นางสาวสุภาวดี   มาวัน</td>\n",
       "    </tr>\n",
       "    <tr>\n",
       "      <th>105</th>\n",
       "      <td>633021007-8</td>\n",
       "      <td>นายอนุชา   เงินขาว</td>\n",
       "    </tr>\n",
       "    <tr>\n",
       "      <th>106</th>\n",
       "      <td>633021008-6</td>\n",
       "      <td>นายอภิวัฒน์   แก้วกำ</td>\n",
       "    </tr>\n",
       "    <tr>\n",
       "      <th>107</th>\n",
       "      <td>633021009-4</td>\n",
       "      <td>นายอัครเดช   วิทยาวุฒิรัตน์</td>\n",
       "    </tr>\n",
       "    <tr>\n",
       "      <th>108</th>\n",
       "      <td>633021010-9</td>\n",
       "      <td>นายอัษฎาวุธ   หอมดี</td>\n",
       "    </tr>\n",
       "  </tbody>\n",
       "</table>\n",
       "<p>109 rows × 2 columns</p>\n",
       "</div>"
      ],
      "text/plain": [
       "                ID                          Name\n",
       "0      633020032-4       นายกล้ายุทธ   พิชัยเชิด\n",
       "1      633020033-2         นายจิรภัทร   ชื่นสกุล\n",
       "2      633020034-0           นายชาญยุทธ   ดงทะนา\n",
       "3      633020035-8            นายชานน   ภาคีนุยะ\n",
       "4      633020036-6          นายณัฐนันท์   วรรณภา\n",
       "..             ...                           ...\n",
       "104    633021006-0         นางสาวสุภาวดี   มาวัน\n",
       "105    633021007-8            นายอนุชา   เงินขาว\n",
       "106    633021008-6          นายอภิวัฒน์   แก้วกำ\n",
       "107    633021009-4   นายอัครเดช   วิทยาวุฒิรัตน์\n",
       "108    633021010-9           นายอัษฎาวุธ   หอมดี\n",
       "\n",
       "[109 rows x 2 columns]"
      ]
     },
     "execution_count": 46,
     "metadata": {},
     "output_type": "execute_result"
    }
   ],
   "source": [
    "df_63 = pd.read_csv(\"CS-63-Member.csv\").drop([\"No\",\"Branch\",\"Major\"], axis=1)\n",
    "df_63"
   ]
  },
  {
   "cell_type": "code",
   "execution_count": 96,
   "metadata": {},
   "outputs": [],
   "source": [
    "from random import choice\n",
    "def get_pair(sophomore_list):\n",
    "    name = choice(sophomore_list)\n",
    "    sophomore_list = sophomore_list[sophomore_list != name]\n",
    "    return name[0], sophomore_list"
   ]
  },
  {
   "cell_type": "code",
   "execution_count": 72,
   "metadata": {},
   "outputs": [
    {
     "data": {
      "text/plain": [
       "(0, 1, 3, 0, 1)"
      ]
     },
     "execution_count": 72,
     "metadata": {},
     "output_type": "execute_result"
    }
   ],
   "source": [
    "0%5,1%5,3%5,5%5,6%5"
   ]
  },
  {
   "cell_type": "code",
   "execution_count": 81,
   "metadata": {},
   "outputs": [
    {
     "data": {
      "text/plain": [
       "' Logic '"
      ]
     },
     "execution_count": 81,
     "metadata": {},
     "output_type": "execute_result"
    }
   ],
   "source": [
    "\"\"\" Logic \"\"\"\n",
    "# a = [1,2,3,5,6,8]\n",
    "# tmp = a.copy()\n",
    "\n",
    "# for i in range(50):\n",
    "#     if not i % len(tmp):\n",
    "#         a = tmp.copy()\n",
    "#         some, a = get_pair(a)\n",
    "#         print(some, a)\n",
    "#     else:\n",
    "#         some, a = get_pair(a)\n",
    "#         print(some, a)"
   ]
  },
  {
   "cell_type": "code",
   "execution_count": 85,
   "metadata": {},
   "outputs": [
    {
     "data": {
      "text/plain": [
       "array(['นายธีรภัทร์ ลอยนอก'], dtype=object)"
      ]
     },
     "execution_count": 85,
     "metadata": {},
     "output_type": "execute_result"
    }
   ],
   "source": [
    "sophomore_name = df_62.values\n",
    "sophomore_name[5]"
   ]
  },
  {
   "cell_type": "code",
   "execution_count": 146,
   "metadata": {},
   "outputs": [],
   "source": [
    "tmp = sophomore_name.copy()\n",
    "paring_list = []\n",
    "\n",
    "for i in range(len(df_63)):\n",
    "    if not i % len(sophomore_name):\n",
    "        name, tmp = get_pair(tmp)\n",
    "        paring_list.append(name)\n",
    "    else:\n",
    "        tmp = sophomore_name.copy()\n",
    "        name, tmp = get_pair(tmp)\n",
    "        paring_list.append(name)\n",
    "        \n",
    "df_63[\"Sophomore\"] = paring_list"
   ]
  },
  {
   "cell_type": "code",
   "execution_count": 179,
   "metadata": {},
   "outputs": [],
   "source": [
    "def check_number_and_name(name):\n",
    "    print(sum([name in i for i in df_63[\"Sophomore\"].values]))\n",
    "    return df_63[[name in i for i in df_63[\"Sophomore\"].values]]"
   ]
  },
  {
   "cell_type": "code",
   "execution_count": 148,
   "metadata": {},
   "outputs": [
    {
     "data": {
      "text/plain": [
       "Sophomore\n",
       "น                            1\n",
       "นางสาวกนกพร แพงไทย           2\n",
       "นางสาวกัญญาณี สามิภักดิ์     1\n",
       "นางสาวจุฑาทิพย์ บุญรมย์      1\n",
       "นางสาวชนิสรา แสงใส           1\n",
       "                            ..\n",
       "นายสุรชา สีลาอาสน์           4\n",
       "นายอัครพนธ์ กาแก้ว           1\n",
       "นายอัยยะ บุ้งทอง             2\n",
       "นายอานัติพนธ์ กุลรัตน์       1\n",
       "นายเจษฎากร กาญจนะสันติสุข    1\n",
       "Length: 68, dtype: int64"
      ]
     },
     "execution_count": 148,
     "metadata": {},
     "output_type": "execute_result"
    }
   ],
   "source": [
    "pd.crosstab(df_63[\"Name\"], df_63[\"Sophomore\"]).sum()"
   ]
  },
  {
   "cell_type": "code",
   "execution_count": 180,
   "metadata": {},
   "outputs": [
    {
     "name": "stdout",
     "output_type": "stream",
     "text": [
      "Enter your name: สุร\n",
      "5\n"
     ]
    },
    {
     "data": {
      "text/html": [
       "<div>\n",
       "<style scoped>\n",
       "    .dataframe tbody tr th:only-of-type {\n",
       "        vertical-align: middle;\n",
       "    }\n",
       "\n",
       "    .dataframe tbody tr th {\n",
       "        vertical-align: top;\n",
       "    }\n",
       "\n",
       "    .dataframe thead th {\n",
       "        text-align: right;\n",
       "    }\n",
       "</style>\n",
       "<table border=\"1\" class=\"dataframe\">\n",
       "  <thead>\n",
       "    <tr style=\"text-align: right;\">\n",
       "      <th></th>\n",
       "      <th>ID</th>\n",
       "      <th>Name</th>\n",
       "      <th>Sophomore</th>\n",
       "    </tr>\n",
       "  </thead>\n",
       "  <tbody>\n",
       "    <tr>\n",
       "      <th>1</th>\n",
       "      <td>633020033-2</td>\n",
       "      <td>นายจิรภัทร   ชื่นสกุล</td>\n",
       "      <td>นายสุรชา สีลาอาสน์</td>\n",
       "    </tr>\n",
       "    <tr>\n",
       "      <th>27</th>\n",
       "      <td>633020394-0</td>\n",
       "      <td>นายธเนศวร   สายแสนทอง</td>\n",
       "      <td>นายสุรชา สีลาอาสน์</td>\n",
       "    </tr>\n",
       "    <tr>\n",
       "      <th>32</th>\n",
       "      <td>633020399-0</td>\n",
       "      <td>นายธีรภัทร์   บริบูรณ์</td>\n",
       "      <td>นายสุรชา สีลาอาสน์</td>\n",
       "    </tr>\n",
       "    <tr>\n",
       "      <th>34</th>\n",
       "      <td>633020401-9</td>\n",
       "      <td>นางสาวนงเยาว์   นนท์ใส</td>\n",
       "      <td>นายสุรชา สีลาอาสน์</td>\n",
       "    </tr>\n",
       "    <tr>\n",
       "      <th>56</th>\n",
       "      <td>633020423-9</td>\n",
       "      <td>นายสามารถ   มงคลฤกษ์</td>\n",
       "      <td>นายพงษกร ไชยสุระ</td>\n",
       "    </tr>\n",
       "  </tbody>\n",
       "</table>\n",
       "</div>"
      ],
      "text/plain": [
       "               ID                     Name           Sophomore\n",
       "1     633020033-2    นายจิรภัทร   ชื่นสกุล  นายสุรชา สีลาอาสน์\n",
       "27    633020394-0    นายธเนศวร   สายแสนทอง  นายสุรชา สีลาอาสน์\n",
       "32    633020399-0   นายธีรภัทร์   บริบูรณ์  นายสุรชา สีลาอาสน์\n",
       "34    633020401-9   นางสาวนงเยาว์   นนท์ใส  นายสุรชา สีลาอาสน์\n",
       "56    633020423-9     นายสามารถ   มงคลฤกษ์    นายพงษกร ไชยสุระ"
      ]
     },
     "execution_count": 180,
     "metadata": {},
     "output_type": "execute_result"
    }
   ],
   "source": [
    "check_number_and_name(input(\"Enter your name: \"))"
   ]
  },
  {
   "cell_type": "code",
   "execution_count": null,
   "metadata": {},
   "outputs": [],
   "source": []
  }
 ],
 "metadata": {
  "kernelspec": {
   "display_name": "Python 3",
   "language": "python",
   "name": "python3"
  },
  "language_info": {
   "codemirror_mode": {
    "name": "ipython",
    "version": 3
   },
   "file_extension": ".py",
   "mimetype": "text/x-python",
   "name": "python",
   "nbconvert_exporter": "python",
   "pygments_lexer": "ipython3",
   "version": "3.7.7"
  }
 },
 "nbformat": 4,
 "nbformat_minor": 4
}
