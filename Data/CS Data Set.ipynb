{
 "cells": [
  {
   "cell_type": "code",
   "execution_count": 1,
   "metadata": {},
   "outputs": [],
   "source": [
    "import pandas as pd"
   ]
  },
  {
   "cell_type": "code",
   "execution_count": 2,
   "metadata": {},
   "outputs": [
    {
     "data": {
      "text/html": [
       "<div>\n",
       "<style scoped>\n",
       "    .dataframe tbody tr th:only-of-type {\n",
       "        vertical-align: middle;\n",
       "    }\n",
       "\n",
       "    .dataframe tbody tr th {\n",
       "        vertical-align: top;\n",
       "    }\n",
       "\n",
       "    .dataframe thead th {\n",
       "        text-align: right;\n",
       "    }\n",
       "</style>\n",
       "<table border=\"1\" class=\"dataframe\">\n",
       "  <thead>\n",
       "    <tr style=\"text-align: right;\">\n",
       "      <th></th>\n",
       "      <th>NO</th>\n",
       "      <th>ID</th>\n",
       "      <th>Name</th>\n",
       "      <th>Status</th>\n",
       "    </tr>\n",
       "  </thead>\n",
       "  <tbody>\n",
       "    <tr>\n",
       "      <th>0</th>\n",
       "      <td>1</td>\n",
       "      <td>623020032-3</td>\n",
       "      <td>นายกมล ศิลารักษ์</td>\n",
       "      <td>10</td>\n",
       "    </tr>\n",
       "    <tr>\n",
       "      <th>1</th>\n",
       "      <td>2</td>\n",
       "      <td>623020033-1</td>\n",
       "      <td>นายกิตติศักดิ์ เหง้าศรีไพร</td>\n",
       "      <td>10</td>\n",
       "    </tr>\n",
       "    <tr>\n",
       "      <th>2</th>\n",
       "      <td>3</td>\n",
       "      <td>623020034-9</td>\n",
       "      <td>นางสาวจุฑาทิพย์ บุญรมย์</td>\n",
       "      <td>10</td>\n",
       "    </tr>\n",
       "    <tr>\n",
       "      <th>3</th>\n",
       "      <td>4</td>\n",
       "      <td>623020035-7</td>\n",
       "      <td>นางสาวจุฑามาศ คงระวี</td>\n",
       "      <td>50</td>\n",
       "    </tr>\n",
       "    <tr>\n",
       "      <th>4</th>\n",
       "      <td>5</td>\n",
       "      <td>623020036-5</td>\n",
       "      <td>นายณัฐวัฒน์ แซ่ตัง</td>\n",
       "      <td>10</td>\n",
       "    </tr>\n",
       "    <tr>\n",
       "      <th>...</th>\n",
       "      <td>...</td>\n",
       "      <td>...</td>\n",
       "      <td>...</td>\n",
       "      <td>...</td>\n",
       "    </tr>\n",
       "    <tr>\n",
       "      <th>108</th>\n",
       "      <td>109</td>\n",
       "      <td>623021035-2</td>\n",
       "      <td>นายวราวุฒิ มะลิผล</td>\n",
       "      <td>10</td>\n",
       "    </tr>\n",
       "    <tr>\n",
       "      <th>109</th>\n",
       "      <td>110</td>\n",
       "      <td>623021036-0</td>\n",
       "      <td>นางสาวศศิวิมล สว่างวงศ์</td>\n",
       "      <td>10</td>\n",
       "    </tr>\n",
       "    <tr>\n",
       "      <th>110</th>\n",
       "      <td>111</td>\n",
       "      <td>623021037-8</td>\n",
       "      <td>นางสาวเสาวลักษณ์ กองหาโคตร</td>\n",
       "      <td>50</td>\n",
       "    </tr>\n",
       "    <tr>\n",
       "      <th>111</th>\n",
       "      <td>112</td>\n",
       "      <td>623021038-6</td>\n",
       "      <td>นางสาวอภัสรา ประมวลธนกิจ</td>\n",
       "      <td>10</td>\n",
       "    </tr>\n",
       "    <tr>\n",
       "      <th>112</th>\n",
       "      <td>113</td>\n",
       "      <td>623021039-4</td>\n",
       "      <td>นายอัยยะ บุ้งทอง</td>\n",
       "      <td>10</td>\n",
       "    </tr>\n",
       "  </tbody>\n",
       "</table>\n",
       "<p>113 rows × 4 columns</p>\n",
       "</div>"
      ],
      "text/plain": [
       "      NO           ID                        Name  Status\n",
       "0      1  623020032-3            นายกมล ศิลารักษ์      10\n",
       "1      2  623020033-1  นายกิตติศักดิ์ เหง้าศรีไพร      10\n",
       "2      3  623020034-9     นางสาวจุฑาทิพย์ บุญรมย์      10\n",
       "3      4  623020035-7        นางสาวจุฑามาศ คงระวี      50\n",
       "4      5  623020036-5          นายณัฐวัฒน์ แซ่ตัง      10\n",
       "..   ...          ...                         ...     ...\n",
       "108  109  623021035-2           นายวราวุฒิ มะลิผล      10\n",
       "109  110  623021036-0     นางสาวศศิวิมล สว่างวงศ์      10\n",
       "110  111  623021037-8  นางสาวเสาวลักษณ์ กองหาโคตร      50\n",
       "111  112  623021038-6    นางสาวอภัสรา ประมวลธนกิจ      10\n",
       "112  113  623021039-4            นายอัยยะ บุ้งทอง      10\n",
       "\n",
       "[113 rows x 4 columns]"
      ]
     },
     "execution_count": 2,
     "metadata": {},
     "output_type": "execute_result"
    }
   ],
   "source": [
    "df = pd.read_csv(\"CS-62-Data-Set.csv\").drop(columns=[\"Round\"])\n",
    "df"
   ]
  },
  {
   "cell_type": "code",
   "execution_count": 3,
   "metadata": {},
   "outputs": [
    {
     "data": {
      "text/plain": [
       "10    90\n",
       "50    16\n",
       "62     5\n",
       "61     2\n",
       "Name: Status, dtype: int64"
      ]
     },
     "execution_count": 3,
     "metadata": {},
     "output_type": "execute_result"
    }
   ],
   "source": [
    "df.Status.value_counts()"
   ]
  },
  {
   "cell_type": "code",
   "execution_count": 8,
   "metadata": {},
   "outputs": [],
   "source": [
    "df[df.Status != 10].to_csv(\"CS-62-Outer-Data-Set.csv\", index=False, encoding=\"utf-8\")"
   ]
  },
  {
   "cell_type": "code",
   "execution_count": null,
   "metadata": {},
   "outputs": [],
   "source": []
  }
 ],
 "metadata": {
  "kernelspec": {
   "display_name": "Python 3",
   "language": "python",
   "name": "python3"
  },
  "language_info": {
   "codemirror_mode": {
    "name": "ipython",
    "version": 3
   },
   "file_extension": ".py",
   "mimetype": "text/x-python",
   "name": "python",
   "nbconvert_exporter": "python",
   "pygments_lexer": "ipython3",
   "version": "3.8.3"
  }
 },
 "nbformat": 4,
 "nbformat_minor": 4
}
